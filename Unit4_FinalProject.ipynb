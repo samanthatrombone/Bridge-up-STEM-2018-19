{
 "cells": [
  {
   "cell_type": "markdown",
   "metadata": {},
   "source": [
    "# Unit 4 Final Projects: Calculating evolutionary distance\n",
    "\n",
    "In this notebook you will compare the sequence of a particular gene from 3 different species to find out which two are most closely related. \n",
    "\n",
    "You will need to do the following:\n",
    "1. Open and read in your files\n",
    "2. Decide which sequences to compare (DNA, RNA, or protein)\n",
    "3. Write a function that returns the percent similarity of each pair of sequences\n",
    "4. Call the function on each pair of sequences to find out which are most similar"
   ]
  },
  {
   "cell_type": "code",
   "execution_count": 4,
   "metadata": {},
   "outputs": [],
   "source": [
    "badger = open(\"badger_COX1_DNA.txt\").read()\n",
    "peccary = open(\"peccary_COX1_DNA.txt\").read()\n",
    "bhs = open(\"sheep_COX1_DNA.txt\").read()"
   ]
  },
  {
   "cell_type": "code",
   "execution_count": 14,
   "metadata": {},
   "outputs": [],
   "source": [
    "#compare dna\n",
    "def compare(dna1,dna2):\n",
    "    sspec = 0\n",
    "    for c,i in enumerate(dna1):\n",
    "        if i == dna2[c]:\n",
    "            sspec += 1\n",
    "        P = (sspec/len(dna1))*100\n",
    "    \n",
    "    return P\n",
    "\n",
    "            \n"
   ]
  },
  {
   "cell_type": "code",
   "execution_count": 15,
   "metadata": {},
   "outputs": [
    {
     "name": "stdout",
     "output_type": "stream",
     "text": [
      "731\n",
      "731\n",
      "731\n"
     ]
    }
   ],
   "source": [
    "print(len(badger))\n",
    "print(len(peccary))\n",
    "print(len(bhs))\n"
   ]
  },
  {
   "cell_type": "code",
   "execution_count": 43,
   "metadata": {},
   "outputs": [],
   "source": [
    "a = compare(badger, peccary)\n",
    "b = compare(badger,bhs)\n",
    "c = compare(peccary,bhs)"
   ]
  },
  {
   "cell_type": "markdown",
   "metadata": {},
   "source": [
    "## Bonus Challenge\n",
    "\n",
    "Visualize your results! Choose a graph type that you think will communicate your conclusions effectively and create it using matplotlib:"
   ]
  },
  {
   "cell_type": "code",
   "execution_count": 44,
   "metadata": {},
   "outputs": [
    {
     "data": {
      "image/png": "[encoded data removed]",
      "text/plain": [
       "<Figure size 432x288 with 1 Axes>"
      ]
     },
     "metadata": {},
     "output_type": "display_data"
    }
   ],
   "source": [
    "import matplotlib.pyplot as plt\n",
    "plt.bar([1,2,3],[a,b,c],color = [\"lightpink\",\"plum\",\"salmon\"])\n",
    "plt.xticks([1,2,3],[\"badger and sheep\" ,\"badger and peccary\",\"peccary and sheep\"])\n",
    "plt.xlabel(\"species\")\n",
    "plt.ylabel(\"percent similarity\")\n",
    "plt.savefig(\"pbb.png\")\n"
   ]
  },
  {
   "cell_type": "markdown",
   "metadata": {},
   "source": [
    "## Bonus Challenge 2\n",
    "If you finish your project and want to try a challenge, come up with a hypothesis about which of the following species are most closely related to humans (carp, chicken, chimp, dog, eel, elephant, frog, gorilla, macaque monkey, mouse, orangutan, pig). Write out a ranked list with the species you think is most related to humans at the top.\n",
    "\n",
    "Then calculate the percent difference between the hemoglobin amino acid sequences of humans and each species to find out how close you came to the right ranking!"
   ]
  },
  {
   "cell_type": "code",
   "execution_count": null,
   "metadata": {},
   "outputs": [],
   "source": []
  }
 ],
 "metadata": {
  "kernelspec": {
   "display_name": "Python 3",
   "language": "python",
   "name": "python3"
  },
  "language_info": {
   "codemirror_mode": {
    "name": "ipython",
    "version": 3
   },
   "file_extension": ".py",
   "mimetype": "text/x-python",
   "name": "python",
   "nbconvert_exporter": "python",
   "pygments_lexer": "ipython3",
   "version": "3.6.5"
  }
 },
 "nbformat": 4,
 "nbformat_minor": 2
}
